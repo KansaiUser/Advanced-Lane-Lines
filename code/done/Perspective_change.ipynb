{
 "cells": [
  {
   "cell_type": "code",
   "execution_count": 1,
   "metadata": {},
   "outputs": [],
   "source": [
    "import numpy as np\n",
    "import cv2\n",
    "import matplotlib.pyplot as plt\n",
    "import matplotlib.image as mpimg\n",
    "\n",
    "import glob"
   ]
  },
  {
   "cell_type": "code",
   "execution_count": 2,
   "metadata": {},
   "outputs": [],
   "source": [
    "from scripts.my_camera_cal import readValuesToUndistort\n",
    "from scripts.my_camera_cal import unwarp\n",
    "\n",
    "from scripts.my_pipeline import pipeline"
   ]
  },
  {
   "cell_type": "markdown",
   "metadata": {},
   "source": [
    "### the function"
   ]
  },
  {
   "cell_type": "code",
   "execution_count": 3,
   "metadata": {},
   "outputs": [],
   "source": [
    "from scripts.my_camera_cal import image_perspective"
   ]
  },
  {
   "cell_type": "code",
   "execution_count": 4,
   "metadata": {},
   "outputs": [],
   "source": [
    "mtx,dist=readValuesToUndistort(\"config/myvalues_to_undistort.p\")"
   ]
  },
  {
   "cell_type": "code",
   "execution_count": null,
   "metadata": {},
   "outputs": [],
   "source": [
    "# Make a list of calibration images\n",
    "images = glob.glob('../test_images/*.jpg')\n",
    "print(images)"
   ]
  },
  {
   "cell_type": "code",
   "execution_count": null,
   "metadata": {},
   "outputs": [],
   "source": [
    "# Read in an image\n",
    "image = mpimg.imread('../test_images/test2.jpg')\n",
    "print(image.shape)\n",
    "\n",
    "#undistort it\n",
    "dst = cv2.undistort(image, mtx, dist, None, mtx)\n",
    "print(dst.shape)"
   ]
  },
  {
   "cell_type": "code",
   "execution_count": null,
   "metadata": {},
   "outputs": [],
   "source": [
    "# Plot the result\n",
    "f, (ax1, ax2) = plt.subplots(1, 2, figsize=(24, 9))\n",
    "f.tight_layout()\n",
    "ax1.imshow(image)\n",
    "ax1.set_title('Original Image', fontsize=50)\n",
    "ax2.imshow(dst)\n",
    "ax2.set_title('Undistorted Image', fontsize=50)\n",
    "plt.subplots_adjust(left=0., right=1, top=0.9, bottom=0.)"
   ]
  },
  {
   "cell_type": "code",
   "execution_count": null,
   "metadata": {},
   "outputs": [],
   "source": [
    "color_binary,combined_binary= pipeline(dst,channel='s',color_thresh=(110,255), orient='x', sobel_thresh=(20, 100))"
   ]
  },
  {
   "cell_type": "code",
   "execution_count": null,
   "metadata": {},
   "outputs": [],
   "source": [
    "# Plot the result\n",
    "f, (ax1, ax2) = plt.subplots(1, 2, figsize=(24, 9))\n",
    "f.tight_layout()\n",
    "ax1.imshow(dst)\n",
    "ax1.set_title('Undistorted Image', fontsize=50)\n",
    "ax2.imshow(combined_binary,cmap=\"gray\")\n",
    "ax2.set_title('Thresholded Image', fontsize=50)\n",
    "plt.subplots_adjust(left=0., right=1, top=0.9, bottom=0.)"
   ]
  },
  {
   "cell_type": "code",
   "execution_count": null,
   "metadata": {},
   "outputs": [],
   "source": [
    "print(combined_binary.shape)"
   ]
  },
  {
   "cell_type": "markdown",
   "metadata": {},
   "source": [
    "## From here we do a Perspective Transform"
   ]
  },
  {
   "cell_type": "markdown",
   "metadata": {},
   "source": [
    "Some code\n",
    "\n",
    "    puntos= [(580, 460), (202, 720), (1110, 720), (703, 460)]\n",
    "    puntos.append(puntos[0])\n",
    "    xs, ys = zip(*puntos) #create lists of x and y values\n",
    "    coord=  [(320, 0), (320, 720), (960, 720), (960, 0)]\n",
    "    coord.append(coord[0])\n",
    "    x2s,y2s= zip(*coord)\n",
    "    coord2=  [(336, 0), (336, 720), (976, 720), (976, 0)]\n",
    "    coord2.append(coord2[0])\n",
    "    x3s,y3s= zip(*coord2)\n",
    "\n",
    "    exp_image=dst.copy()\n",
    "    plt.figure(figsize=(20,10))\n",
    "    plt.plot(xs,ys,color='green',linewidth=2)\n",
    "    plt.plot(x2s,y2s,color='red',linewidth=2)\n",
    "    plt.plot(x3s,y3s,color='blue',linewidth=2)\n",
    "    #plt.scatter([580,205,1110,703],[460,720,720,460],color='red')\n",
    "    #plt.plot([580,205,1110,703],[460,720,720,460],color='green')\n",
    "    #plt.plot(left_fitx, ploty, color='green', linewidth=3)\n",
    "    plt.imshow(exp_image)\n"
   ]
  },
  {
   "cell_type": "markdown",
   "metadata": {},
   "source": [
    "# The perspective function"
   ]
  },
  {
   "cell_type": "code",
   "execution_count": null,
   "metadata": {},
   "outputs": [],
   "source": [
    "def image_perspective(image,source=np.float32 ([(580, 460), (202, 720), (1110, 720), (703, 460)]), destino=np.float32([(336, 0), (336, 720), (976, 720), (976, 0)])):\n",
    "    img_size = (image.shape[1], image.shape[0])\n",
    "    #We need first a set of source points (in the riginal image)\n",
    "    #src= [(580, 460), (205, 720), (1110, 720), (703, 460)]\n",
    "    #source= np.float32 ([(580, 460), (202, 720), (1110, 720), (703, 460)])\n",
    "    \n",
    "    #We need a set of destiny points (in the transformed image)\n",
    "    #dst=  [(320, 0), (320, 720), (960, 720), (960, 0)]\n",
    "    #destino= np.float32([(336, 0), (336, 720), (976, 720), (976, 0)])\n",
    "    \n",
    "    M = cv2.getPerspectiveTransform(source, destino)\n",
    "    warped = cv2.warpPerspective(image, M, img_size)\n",
    "    \n",
    "    return warped,M"
   ]
  },
  {
   "cell_type": "code",
   "execution_count": null,
   "metadata": {},
   "outputs": [],
   "source": [
    "def image_perspective(image):\n",
    "    img_size = (image.shape[1], image.shape[0])\n",
    "    #We need first a set of source points (in the riginal image)\n",
    "    #src= [(580, 460), (205, 720), (1110, 720), (703, 460)]\n",
    "    source= np.float32 ([(580, 460), (202, 720), (1110, 720), (703, 460)])\n",
    "    \n",
    "    #src = np.float32([corners[0], corners[nx-1], corners[-1], corners[-nx]])\n",
    "    \n",
    "    #We need a set of destiny points (in the transformed image)\n",
    "    #dst=  [(320, 0), (320, 720), (960, 720), (960, 0)]\n",
    "    destino= np.float32([(336, 0), (336, 720), (976, 720), (976, 0)])\n",
    "    \n",
    "    M = cv2.getPerspectiveTransform(source, destino)\n",
    "    warped = cv2.warpPerspective(image, M, img_size)\n",
    "    \n",
    "    return warped,M"
   ]
  },
  {
   "cell_type": "code",
   "execution_count": null,
   "metadata": {},
   "outputs": [],
   "source": [
    "bird_image,M=image_perspective(combined_binary)\n",
    "plt.figure(figsize=(20,10))\n",
    "plt.imshow(bird_image,cmap=\"gray\")"
   ]
  },
  {
   "cell_type": "code",
   "execution_count": null,
   "metadata": {},
   "outputs": [],
   "source": [
    "puntos= [(580, 460), (202, 720), (1110, 720), (703, 460)]\n",
    "puntos.append(puntos[0])\n",
    "xs, ys = zip(*puntos) #create lists of x and y values\n",
    "coord2=  [(336, 0), (336, 720), (976, 720), (976, 0)]\n",
    "coord2.append(coord2[0])\n",
    "x3s,y3s= zip(*coord2)"
   ]
  },
  {
   "cell_type": "code",
   "execution_count": null,
   "metadata": {},
   "outputs": [],
   "source": [
    "# Plot the result\n",
    "f, (ax1, ax2) = plt.subplots(1, 2, figsize=(24, 9))\n",
    "f.tight_layout()\n",
    "ax1.plot(xs,ys,color='green',linewidth=2)\n",
    "ax1.imshow(combined_binary,cmap='gray')\n",
    "ax1.set_title('World Image', fontsize=50)\n",
    "ax2.plot(x3s,y3s,color='green',linewidth=2)\n",
    "ax2.imshow(bird_image,cmap=\"gray\")\n",
    "ax2.set_title('Bird View', fontsize=50)\n",
    "plt.subplots_adjust(left=0., right=1, top=0.9, bottom=0.)"
   ]
  },
  {
   "cell_type": "code",
   "execution_count": null,
   "metadata": {},
   "outputs": [],
   "source": [
    "plt.figure(figsize=(20,10))\n",
    "plt.plot(xs,ys,color='green',linewidth=2)\n",
    "plt.imshow(combined_binary,cmap=\"gray\")"
   ]
  },
  {
   "cell_type": "markdown",
   "metadata": {},
   "source": [
    "Just for laughs :)"
   ]
  },
  {
   "cell_type": "code",
   "execution_count": null,
   "metadata": {},
   "outputs": [],
   "source": [
    "bird_image2,M2=image_perspective(dst)\n",
    "plt.figure(figsize=(20,10))\n",
    "plt.plot(x3s,y3s,color='green',linewidth=2)\n",
    "plt.imshow(bird_image2)"
   ]
  }
 ],
 "metadata": {
  "kernelspec": {
   "display_name": "Python 3",
   "language": "python",
   "name": "python3"
  },
  "language_info": {
   "codemirror_mode": {
    "name": "ipython",
    "version": 3
   },
   "file_extension": ".py",
   "mimetype": "text/x-python",
   "name": "python",
   "nbconvert_exporter": "python",
   "pygments_lexer": "ipython3",
   "version": "3.7.6"
  }
 },
 "nbformat": 4,
 "nbformat_minor": 4
}
