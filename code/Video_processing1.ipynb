{
 "cells": [
  {
   "cell_type": "code",
   "execution_count": 1,
   "metadata": {},
   "outputs": [],
   "source": [
    "# Import everything needed to edit/save/watch video clips\n",
    "from moviepy.editor import VideoFileClip\n",
    "from IPython.display import HTML"
   ]
  },
  {
   "cell_type": "code",
   "execution_count": 2,
   "metadata": {},
   "outputs": [],
   "source": [
    "import numpy as np\n",
    "import cv2\n",
    "import matplotlib.pyplot as plt\n",
    "import matplotlib.image as mpimg\n",
    "\n",
    "import glob\n",
    "\n",
    "from scripts.my_camera_cal import readValuesToUndistort\n",
    "from scripts.my_camera_cal import unwarp\n",
    "\n",
    "from scripts.my_pipeline import pipeline\n",
    "from scripts.my_camera_cal import image_perspective\n",
    "\n",
    "from scripts.my_line_finding import fit_polynomial\n",
    "from scripts.my_line_finding import search_around_poly\n",
    "\n",
    "from scripts.my_process import back_to_world\n",
    "from scripts.my_process import process\n",
    "from scripts.my_process import process2\n",
    "from scripts.my_process import measure_curvature_pixels"
   ]
  },
  {
   "cell_type": "code",
   "execution_count": 3,
   "metadata": {},
   "outputs": [],
   "source": [
    "mtx,dist=readValuesToUndistort(\"config/myvalues_to_undistort.p\")\n",
    "shape0=720"
   ]
  },
  {
   "cell_type": "markdown",
   "metadata": {},
   "source": [
    "# Processing the video"
   ]
  },
  {
   "cell_type": "markdown",
   "metadata": {},
   "source": [
    "### Strategy1 only\n"
   ]
  },
  {
   "cell_type": "code",
   "execution_count": null,
   "metadata": {},
   "outputs": [],
   "source": [
    "def process_image(image):\n",
    "    #Here I am going to modify to somehow preserve the ll_f rr_f values\n",
    "    ll_f,rr_f,poly_img,final_img=process2(image,mtx,dist)\n",
    "    \n",
    "    #process_image.ll_f,process_image.rr_f,poly_img,final_img= process2(image,mtx,dist,\n",
    "    #                                                                   l_fit=process_image.ll_f,\n",
    "    #                                                                   r_fit=process_image.rr_f)\n",
    "    \n",
    "    #print(ll_f, rr_f)\n",
    "    \n",
    "    #f.write(\"Left :\"+str(ll_f)+ \"Right: \"+str(rr_f)+\"\\n\")\n",
    "    f.write(str(ll_f[0])+\",\"+str(ll_f[1])+\",\"+str(ll_f[2])+\",\"+str(rr_f[0])+\",\"+str(rr_f[1])+\",\"+str(rr_f[2])+\"\\n\")\n",
    "    \n",
    "    #process_image.seudo_static+=1\n",
    "    return final_img"
   ]
  },
  {
   "cell_type": "markdown",
   "metadata": {},
   "source": [
    "### Improved:"
   ]
  },
  {
   "cell_type": "code",
   "execution_count": 11,
   "metadata": {},
   "outputs": [],
   "source": [
    "def process_image(image):\n",
    "    #Here I am going to modify to somehow preserve the ll_f rr_f values\n",
    "    ll_f,rr_f,poly_img,final_img=process2(image,mtx,dist)\n",
    "    \n",
    "    if process_image.ll_f.size==0:   #first time\n",
    "        f.write(str(ll_f[0])+\",\"+str(ll_f[1])+\",\"+str(ll_f[2])+\",\"+str(rr_f[0])+\",\"+str(rr_f[1])+\",\"+str(rr_f[2])+\"\\n\")\n",
    "        process_image.ll_f=ll_f\n",
    "        process_image.rr_f=rr_f\n",
    "        return final_img\n",
    "    \n",
    "    \n",
    "#    f.write(str(ll_f[0])+\",\"+str(ll_f[1])+\",\"+str(ll_f[2])+\",\"+str(rr_f[0])+\",\"+str(rr_f[1])+\",\"+str(rr_f[2])+\",\")\n",
    "#    f.write(str(ll_f[0]-process_image.ll_f[0])+\",\"    )\n",
    "    \n",
    "    f.write(str(ll_f[0])+\",\"+str(ll_f[1])+\",\"+str(ll_f[2])+\",\"+str(rr_f[0])+\",\"+str(rr_f[1])+\",\"+str(rr_f[2])+\"\\n\")\n",
    "    \n",
    "    if (abs(ll_f[0]-process_image.ll_f[0]) >0.001 or  abs(ll_f[1]-process_image.ll_f[1]) >2 or\n",
    "     abs(rr_f[0]-process_image.rr_f[0]) >0.001 or  abs(rr_f[1]-process_image.rr_f[1]) >2 ):\n",
    "        \n",
    "        #There has been an strange variation (perhaps an outlier) \n",
    "        ll_f,rr_f,poly_img,final_img=process2(image,mtx,dist,\n",
    "                                              l_fit=process_image.ll_f,\n",
    "                                              r_fit=process_image.rr_f)\n",
    "        f.write(\"REPROCESS:\\n\")\n",
    "        f.write(str(ll_f[0])+\",\"+str(ll_f[1])+\",\"+str(ll_f[2])+\",\"+str(rr_f[0])+\",\"+str(rr_f[1])+\",\"+str(rr_f[2])+\"\\n\")\n",
    "    \n",
    "    \n",
    "    #process_image.ll_f,process_image.rr_f,poly_img,final_img= process2(image,mtx,dist,\n",
    "    #                                                                   l_fit=process_image.ll_f,\n",
    "    #                                                                   r_fit=process_image.rr_f)\n",
    "    \n",
    "    #print(ll_f, rr_f)\n",
    "    \n",
    "    #f.write(\"Left :\"+str(ll_f)+ \"Right: \"+str(rr_f)+\"\\n\")\n",
    "    #f.write(str(ll_f[0])+\",\"+str(ll_f[1])+\",\"+str(ll_f[2])+\",\"+str(rr_f[0])+\",\"+str(rr_f[1])+\",\"+str(rr_f[2])+\"\\n\")\n",
    "    \n",
    "    #process_image.ll_f=ll_f\n",
    "    #process_image.rr_f=rr_f\n",
    "    \n",
    "    #process_image.seudo_static+=1\n",
    "    return final_img"
   ]
  },
  {
   "cell_type": "code",
   "execution_count": null,
   "metadata": {},
   "outputs": [],
   "source": [
    "def process_image(image):\n",
    "    #Here I am going to modify to somehow preserve the ll_f rr_f values\n",
    "    #ll_f,rr_f,poly_img,final_img=process2(image,mtx,dist)\n",
    "    \n",
    "    process_image.ll_f,process_image.rr_f,poly_img,final_img= process2(image,mtx,dist,\n",
    "                                                                       l_fit=process_image.ll_f,\n",
    "                                                                       r_fit=process_image.rr_f)\n",
    "    \n",
    "    process_image.seudo_static+=1\n",
    "    return final_img"
   ]
  },
  {
   "cell_type": "code",
   "execution_count": 12,
   "metadata": {},
   "outputs": [
    {
     "name": "stderr",
     "output_type": "stream",
     "text": [
      "\r",
      "t:   0%|                                                                            | 0/1260 [00:00<?, ?it/s, now=None]"
     ]
    },
    {
     "name": "stdout",
     "output_type": "stream",
     "text": [
      "Moviepy - Building video ../output_video/project_video_out.mp4.\n",
      "Moviepy - Writing video ../output_video/project_video_out.mp4\n",
      "\n"
     ]
    },
    {
     "name": "stderr",
     "output_type": "stream",
     "text": [
      "                                                                                                                       \r"
     ]
    },
    {
     "name": "stdout",
     "output_type": "stream",
     "text": [
      "Moviepy - Done !\n",
      "Moviepy - video ready ../output_video/project_video_out.mp4\n",
      "Wall time: 4min 45s\n"
     ]
    },
    {
     "data": {
      "image/png": "[encoded data removed]",
      "text/plain": [
       "<Figure size 432x288 with 1 Axes>"
      ]
     },
     "metadata": {
      "needs_background": "light"
     },
     "output_type": "display_data"
    }
   ],
   "source": [
    "f = open(\"../output_video/log.csv\", \"w\")\n",
    "#process_image.seudo_static=0\n",
    "process_image.ll_f=np.array([])\n",
    "process_image.rr_f=np.array([])\n",
    "video_output = '../output_video/project_video_out.mp4'\n",
    "## To speed up the testing process you may want to try your pipeline on a shorter subclip of the video\n",
    "## To do so add .subclip(start_second,end_second) to the end of the line below\n",
    "## Where start_second and end_second are integer values representing the start and end of the subclip\n",
    "## You may also uncomment the following line for a subclip of the first 5 seconds\n",
    "#clip1 = VideoFileClip(\"../challenge_video.mp4\").subclip(0,5)\n",
    "clip1 = VideoFileClip(\"../project_video.mp4\")\n",
    "\n",
    "#clip1 = VideoFileClip(\"../project_video.mp4\")\n",
    "video_clip = clip1.fl_image(process_image) #NOTE: this function expects color images!!\n",
    "%time video_clip.write_videofile(video_output, audio=False)\n",
    "#print(\"final counter:\",process_image.seudo_static)\n",
    "f.close()"
   ]
  },
  {
   "cell_type": "code",
   "execution_count": 13,
   "metadata": {},
   "outputs": [
    {
     "name": "stderr",
     "output_type": "stream",
     "text": [
      "t:   0%|▎                                                                    | 2/485 [00:00<00:37, 12.90it/s, now=None]"
     ]
    },
    {
     "name": "stdout",
     "output_type": "stream",
     "text": [
      "Moviepy - Building video ../output_video/challenge_video_out.mp4.\n",
      "Moviepy - Writing video ../output_video/challenge_video_out.mp4\n",
      "\n"
     ]
    },
    {
     "name": "stderr",
     "output_type": "stream",
     "text": [
      "                                                                                                                       \r"
     ]
    },
    {
     "name": "stdout",
     "output_type": "stream",
     "text": [
      "Moviepy - Done !\n",
      "Moviepy - video ready ../output_video/challenge_video_out.mp4\n",
      "Wall time: 1min 52s\n"
     ]
    },
    {
     "data": {
      "image/png": "[encoded data removed]",
      "text/plain": [
       "<Figure size 432x288 with 1 Axes>"
      ]
     },
     "metadata": {
      "needs_background": "light"
     },
     "output_type": "display_data"
    }
   ],
   "source": [
    "f = open(\"../output_video/log_challenge.csv\", \"w\")\n",
    "#process_image.seudo_static=0\n",
    "process_image.ll_f=np.array([])\n",
    "process_image.rr_f=np.array([])\n",
    "video_output = '../output_video/challenge_video_out.mp4'\n",
    "## To speed up the testing process you may want to try your pipeline on a shorter subclip of the video\n",
    "## To do so add .subclip(start_second,end_second) to the end of the line below\n",
    "## Where start_second and end_second are integer values representing the start and end of the subclip\n",
    "## You may also uncomment the following line for a subclip of the first 5 seconds\n",
    "#clip1 = VideoFileClip(\"../challenge_video.mp4\").subclip(0,5)\n",
    "clip1 = VideoFileClip(\"../challenge_video.mp4\")\n",
    "\n",
    "#clip1 = VideoFileClip(\"../project_video.mp4\")\n",
    "video_clip = clip1.fl_image(process_image) #NOTE: this function expects color images!!\n",
    "%time video_clip.write_videofile(video_output, audio=False)\n",
    "f.close()\n"
   ]
  },
  {
   "cell_type": "code",
   "execution_count": 14,
   "metadata": {},
   "outputs": [
    {
     "name": "stderr",
     "output_type": "stream",
     "text": [
      "\r",
      "t:   0%|                                                                            | 0/1199 [00:00<?, ?it/s, now=None]"
     ]
    },
    {
     "name": "stdout",
     "output_type": "stream",
     "text": [
      "Moviepy - Building video ../output_video/harder_challenge_video_out.mp4.\n",
      "Moviepy - Writing video ../output_video/harder_challenge_video_out.mp4\n",
      "\n"
     ]
    },
    {
     "name": "stderr",
     "output_type": "stream",
     "text": [
      "                                                                                                                       \r"
     ]
    },
    {
     "name": "stdout",
     "output_type": "stream",
     "text": [
      "Moviepy - Done !\n",
      "Moviepy - video ready ../output_video/harder_challenge_video_out.mp4\n",
      "Wall time: 7min 56s\n"
     ]
    },
    {
     "data": {
      "image/png": "[encoded data removed]",
      "text/plain": [
       "<Figure size 432x288 with 1 Axes>"
      ]
     },
     "metadata": {
      "needs_background": "light"
     },
     "output_type": "display_data"
    }
   ],
   "source": [
    "f = open(\"../output_video/log_harder_challenge.csv\", \"w\")\n",
    "process_image.ll_f=np.array([])\n",
    "process_image.rr_f=np.array([])\n",
    "video_output = '../output_video/harder_challenge_video_out.mp4'\n",
    "clip1 = VideoFileClip(\"../harder_challenge_video.mp4\")\n",
    "\n",
    "#clip1 = VideoFileClip(\"../project_video.mp4\")\n",
    "video_clip = clip1.fl_image(process_image) #NOTE: this function expects color images!!\n",
    "%time video_clip.write_videofile(video_output, audio=False)\n",
    "f.close()\n"
   ]
  },
  {
   "cell_type": "code",
   "execution_count": null,
   "metadata": {},
   "outputs": [],
   "source": []
  },
  {
   "cell_type": "code",
   "execution_count": null,
   "metadata": {},
   "outputs": [],
   "source": []
  },
  {
   "cell_type": "code",
   "execution_count": null,
   "metadata": {},
   "outputs": [],
   "source": []
  },
  {
   "cell_type": "code",
   "execution_count": null,
   "metadata": {},
   "outputs": [],
   "source": [
    "HTML(\"\"\"\n",
    "<video width=\"1280\" height=\"720\" controls>\n",
    "  <source src=\"{0}\">\n",
    "</video>\n",
    "\"\"\".format(video_output))"
   ]
  },
  {
   "cell_type": "code",
   "execution_count": null,
   "metadata": {},
   "outputs": [],
   "source": []
  },
  {
   "cell_type": "code",
   "execution_count": null,
   "metadata": {},
   "outputs": [],
   "source": []
  }
 ],
 "metadata": {
  "kernelspec": {
   "display_name": "Python 3",
   "language": "python",
   "name": "python3"
  },
  "language_info": {
   "codemirror_mode": {
    "name": "ipython",
    "version": 3
   },
   "file_extension": ".py",
   "mimetype": "text/x-python",
   "name": "python",
   "nbconvert_exporter": "python",
   "pygments_lexer": "ipython3",
   "version": "3.7.6"
  }
 },
 "nbformat": 4,
 "nbformat_minor": 4
}
