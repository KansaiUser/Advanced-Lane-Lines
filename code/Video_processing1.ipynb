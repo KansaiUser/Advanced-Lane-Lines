{
 "cells": [
  {
   "cell_type": "code",
   "execution_count": 1,
   "metadata": {},
   "outputs": [],
   "source": [
    "# Import everything needed to edit/save/watch video clips\n",
    "from moviepy.editor import VideoFileClip\n",
    "from IPython.display import HTML"
   ]
  },
  {
   "cell_type": "code",
   "execution_count": 2,
   "metadata": {},
   "outputs": [],
   "source": [
    "import numpy as np\n",
    "import cv2\n",
    "import matplotlib.pyplot as plt\n",
    "import matplotlib.image as mpimg\n",
    "\n",
    "import glob\n",
    "\n",
    "from scripts.my_camera_cal import readValuesToUndistort\n",
    "from scripts.my_camera_cal import unwarp\n",
    "\n",
    "from scripts.my_pipeline import pipeline\n",
    "from scripts.my_camera_cal import image_perspective\n",
    "\n",
    "from scripts.my_line_finding import fit_polynomial\n",
    "from scripts.my_line_finding import search_around_poly\n",
    "\n",
    "from scripts.my_process import back_to_world\n",
    "from scripts.my_process import process\n",
    "from scripts.my_process import process2\n",
    "from scripts.my_process import measure_curvature_pixels"
   ]
  },
  {
   "cell_type": "code",
   "execution_count": 3,
   "metadata": {},
   "outputs": [],
   "source": [
    "mtx,dist=readValuesToUndistort(\"config/myvalues_to_undistort.p\")\n",
    "shape0=720"
   ]
  },
  {
   "cell_type": "markdown",
   "metadata": {},
   "source": [
    "# Processing the video"
   ]
  },
  {
   "cell_type": "code",
   "execution_count": 6,
   "metadata": {},
   "outputs": [],
   "source": [
    "def process_image(image):\n",
    "    #Here I am going to modify to somehow preserve the ll_f rr_f values\n",
    "    ll_f,rr_f,poly_img,final_img=process2(image,mtx,dist)\n",
    "    \n",
    "    if process_image.ll_f.size==0:   #first time\n",
    "        f.write(str(ll_f[0])+\",\"+str(ll_f[1])+\",\"+str(ll_f[2])+\",\"+str(rr_f[0])+\",\"+str(rr_f[1])+\",\"+str(rr_f[2])+\"\\n\")\n",
    "        process_image.ll_f=ll_f\n",
    "        process_image.rr_f=rr_f\n",
    "        return final_img\n",
    "    \n",
    "    \n",
    "\n",
    "    f.write(str(ll_f[0])+\",\"+str(ll_f[1])+\",\"+str(ll_f[2])+\",\"+str(rr_f[0])+\",\"+str(rr_f[1])+\",\"+str(rr_f[2])+\"\\n\")\n",
    "    \n",
    "    if (abs(ll_f[0]-process_image.ll_f[0]) >0.001 or  abs(ll_f[1]-process_image.ll_f[1]) >2 or\n",
    "     abs(rr_f[0]-process_image.rr_f[0]) >0.001 or  abs(rr_f[1]-process_image.rr_f[1]) >2 ):\n",
    "        \n",
    "        #There has been an strange variation (perhaps an outlier) \n",
    "        ll_f,rr_f,poly_img,final_img=process2(image,mtx,dist,\n",
    "                                              l_fit=process_image.ll_f,\n",
    "                                              r_fit=process_image.rr_f)\n",
    "        f.write(\"REPROCESS:\\n\")\n",
    "        f.write(str(ll_f[0])+\",\"+str(ll_f[1])+\",\"+str(ll_f[2])+\",\"+str(rr_f[0])+\",\"+str(rr_f[1])+\",\"+str(rr_f[2])+\"\\n\")\n",
    "    \n",
    "    \n",
    "    process_image.ll_f=ll_f\n",
    "    process_image.rr_f=rr_f\n",
    "    \n",
    "    return final_img"
   ]
  },
  {
   "cell_type": "code",
   "execution_count": 7,
   "metadata": {},
   "outputs": [
    {
     "name": "stderr",
     "output_type": "stream",
     "text": [
      "t:   0%|                                                                    | 2/1260 [00:00<01:28, 14.29it/s, now=None]"
     ]
    },
    {
     "name": "stdout",
     "output_type": "stream",
     "text": [
      "Moviepy - Building video ../output_video/project_video_out.mp4.\n",
      "Moviepy - Writing video ../output_video/project_video_out.mp4\n",
      "\n"
     ]
    },
    {
     "name": "stderr",
     "output_type": "stream",
     "text": [
      "                                                                                                                       \r"
     ]
    },
    {
     "name": "stdout",
     "output_type": "stream",
     "text": [
      "Moviepy - Done !\n",
      "Moviepy - video ready ../output_video/project_video_out.mp4\n",
      "Wall time: 4min 4s\n"
     ]
    },
    {
     "data": {
      "image/png": "[encoded data removed]",
      "text/plain": [
       "<Figure size 432x288 with 1 Axes>"
      ]
     },
     "metadata": {
      "needs_background": "light"
     },
     "output_type": "display_data"
    }
   ],
   "source": [
    "f = open(\"../output_video/log.csv\", \"w\")\n",
    "\n",
    "process_image.ll_f=np.array([])\n",
    "process_image.rr_f=np.array([])\n",
    "video_output = '../output_video/project_video_out.mp4'\n",
    "\n",
    "#clip1 = VideoFileClip(\"../challenge_video.mp4\").subclip(0,5)\n",
    "clip1 = VideoFileClip(\"../project_video.mp4\")\n",
    "\n",
    "video_clip = clip1.fl_image(process_image) #NOTE: this function expects color images!!\n",
    "%time video_clip.write_videofile(video_output, audio=False)\n",
    "\n",
    "f.close()"
   ]
  },
  {
   "cell_type": "code",
   "execution_count": 8,
   "metadata": {},
   "outputs": [
    {
     "name": "stderr",
     "output_type": "stream",
     "text": [
      "t:   0%|▎                                                                    | 2/485 [00:00<00:37, 12.99it/s, now=None]"
     ]
    },
    {
     "name": "stdout",
     "output_type": "stream",
     "text": [
      "Moviepy - Building video ../output_video/challenge_video_out.mp4.\n",
      "Moviepy - Writing video ../output_video/challenge_video_out.mp4\n",
      "\n"
     ]
    },
    {
     "name": "stderr",
     "output_type": "stream",
     "text": [
      "                                                                                                                       \r"
     ]
    },
    {
     "name": "stdout",
     "output_type": "stream",
     "text": [
      "Moviepy - Done !\n",
      "Moviepy - video ready ../output_video/challenge_video_out.mp4\n",
      "Wall time: 2min 36s\n"
     ]
    },
    {
     "data": {
      "image/png": "[encoded data removed]",
      "text/plain": [
       "<Figure size 432x288 with 1 Axes>"
      ]
     },
     "metadata": {
      "needs_background": "light"
     },
     "output_type": "display_data"
    }
   ],
   "source": [
    "f = open(\"../output_video/log_challenge.csv\", \"w\")\n",
    "\n",
    "process_image.ll_f=np.array([])\n",
    "process_image.rr_f=np.array([])\n",
    "video_output = '../output_video/challenge_video_out.mp4'\n",
    "clip1 = VideoFileClip(\"../challenge_video.mp4\")\n",
    "\n",
    "video_clip = clip1.fl_image(process_image) \n",
    "%time video_clip.write_videofile(video_output, audio=False)\n",
    "f.close()\n"
   ]
  },
  {
   "cell_type": "code",
   "execution_count": 9,
   "metadata": {},
   "outputs": [
    {
     "data": {
      "text/html": [
       "\n",
       "<video width=\"1280\" height=\"720\" controls>\n",
       "  <source src=\"../output_video/project_video_out.mp4\">\n",
       "</video>\n"
      ],
      "text/plain": [
       "<IPython.core.display.HTML object>"
      ]
     },
     "execution_count": 9,
     "metadata": {},
     "output_type": "execute_result"
    }
   ],
   "source": [
    "video_output = '../output_video/project_video_out.mp4'\n",
    "HTML(\"\"\"\n",
    "<video width=\"1280\" height=\"720\" controls>\n",
    "  <source src=\"{0}\">\n",
    "</video>\n",
    "\"\"\".format(video_output))"
   ]
  }
 ],
 "metadata": {
  "kernelspec": {
   "display_name": "Python 3",
   "language": "python",
   "name": "python3"
  },
  "language_info": {
   "codemirror_mode": {
    "name": "ipython",
    "version": 3
   },
   "file_extension": ".py",
   "mimetype": "text/x-python",
   "name": "python",
   "nbconvert_exporter": "python",
   "pygments_lexer": "ipython3",
   "version": "3.7.6"
  }
 },
 "nbformat": 4,
 "nbformat_minor": 4
}
